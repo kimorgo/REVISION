{
 "cells": [
  {
   "cell_type": "markdown",
   "metadata": {},
   "source": [
    "# Question One"
   ]
  },
  {
   "cell_type": "code",
   "execution_count": 2,
   "metadata": {},
   "outputs": [
    {
     "name": "stdout",
     "output_type": "stream",
     "text": [
      "13\n",
      "2\n"
     ]
    }
   ],
   "source": [
    "arr1 = [2, 3,5, 7]\n",
    "arr2 = arr1\n",
    "arr2[2] = 13\n",
    "print(arr1[2]) # 13\n",
    "arr3 = arr1[0:3]\n",
    "arr3[0] = 17\n",
    "print(arr1[0])"
   ]
  },
  {
   "cell_type": "markdown",
   "metadata": {},
   "source": [
    "The assignment of arr1 to arr2 is basically adding reference to the object referred to by arr1 meaning they point to the same object in memory, so modification affects both of them\n",
    "While arr3 is not affected because slicing creates a new object in memory thus modification is isolated to that object alone"
   ]
  },
  {
   "cell_type": "code",
   "execution_count": 3,
   "metadata": {},
   "outputs": [
    {
     "name": "stdout",
     "output_type": "stream",
     "text": [
      "3\n",
      "4\n"
     ]
    }
   ],
   "source": [
    "def func(arr):\n",
    "    arr.append(2) # this will internally affect the object not a copy\n",
    "\n",
    "my_arr = [1, 2, 3]\n",
    "print(len(my_arr))\n",
    "func(my_arr)\n",
    "print(len(my_arr))"
   ]
  },
  {
   "cell_type": "code",
   "execution_count": 5,
   "metadata": {},
   "outputs": [
    {
     "name": "stdout",
     "output_type": "stream",
     "text": [
      "there are bananas\n"
     ]
    }
   ],
   "source": [
    "dict1 = {\"apples\": 3, \"oranges\": 2}\n",
    "dict2 = dict1\n",
    "dict2['bananas'] = 5\n",
    "if 'bananas' in dict1:\n",
    "    print('there are bananas')\n",
    "else:\n",
    "    print('no bananas')\n",
    "    \n",
    "## this has the same explanation as 1 above"
   ]
  },
  {
   "cell_type": "code",
   "execution_count": 7,
   "metadata": {},
   "outputs": [
    {
     "data": {
      "text/plain": [
       "array([[0.        , 0.59752846, 1.37624287],\n",
       "       [0.        , 0.12605888, 1.86657102],\n",
       "       [0.        , 0.88880528, 1.79026571],\n",
       "       [0.        , 0.05992492, 0.18034709],\n",
       "       [0.        , 0.27635958, 0.80122549],\n",
       "       [0.        , 0.56745646, 0.98889215]])"
      ]
     },
     "execution_count": 7,
     "metadata": {},
     "output_type": "execute_result"
    }
   ],
   "source": [
    "import numpy as np\n",
    "a = np.random.rand(6, 3)*np.arange(3)\n",
    "a"
   ]
  },
  {
   "cell_type": "code",
   "execution_count": 9,
   "metadata": {},
   "outputs": [
    {
     "name": "stdout",
     "output_type": "stream",
     "text": [
      "Help on built-in function rand in numpy.random:\n",
      "\n",
      "numpy.random.rand = rand(...) method of mtrand.RandomState instance\n",
      "    rand(d0, d1, ..., dn)\n",
      "    \n",
      "    Random values in a given shape.\n",
      "    \n",
      "    Create an array of the given shape and populate it with\n",
      "    random samples from a uniform distribution\n",
      "    over ``[0, 1)``.\n",
      "    \n",
      "    Parameters\n",
      "    ----------\n",
      "    d0, d1, ..., dn : int, optional\n",
      "        The dimensions of the returned array, should all be positive.\n",
      "        If no argument is given a single Python float is returned.\n",
      "    \n",
      "    Returns\n",
      "    -------\n",
      "    out : ndarray, shape ``(d0, d1, ..., dn)``\n",
      "        Random values.\n",
      "    \n",
      "    See Also\n",
      "    --------\n",
      "    random\n",
      "    \n",
      "    Notes\n",
      "    -----\n",
      "    This is a convenience function. If you want an interface that\n",
      "    takes a shape-tuple as the first argument, refer to\n",
      "    np.random.random_sample .\n",
      "    \n",
      "    Examples\n",
      "    --------\n",
      "    >>> np.random.rand(3,2)\n",
      "    array([[ 0.14022471,  0.96360618],  #random\n",
      "           [ 0.37601032,  0.25528411],  #random\n",
      "           [ 0.49313049,  0.94909878]]) #random\n",
      "\n"
     ]
    }
   ],
   "source": [
    "help('numpy.random.rand')"
   ]
  },
  {
   "cell_type": "code",
   "execution_count": 10,
   "metadata": {},
   "outputs": [
    {
     "name": "stdout",
     "output_type": "stream",
     "text": [
      "Help on built-in function arange in numpy:\n",
      "\n",
      "numpy.arange = arange(...)\n",
      "    arange([start,] stop[, step,], dtype=None)\n",
      "    \n",
      "    Return evenly spaced values within a given interval.\n",
      "    \n",
      "    Values are generated within the half-open interval ``[start, stop)``\n",
      "    (in other words, the interval including `start` but excluding `stop`).\n",
      "    For integer arguments the function is equivalent to the Python built-in\n",
      "    `range` function, but returns an ndarray rather than a list.\n",
      "    \n",
      "    When using a non-integer step, such as 0.1, the results will often not\n",
      "    be consistent.  It is better to use `numpy.linspace` for these cases.\n",
      "    \n",
      "    Parameters\n",
      "    ----------\n",
      "    start : number, optional\n",
      "        Start of interval.  The interval includes this value.  The default\n",
      "        start value is 0.\n",
      "    stop : number\n",
      "        End of interval.  The interval does not include this value, except\n",
      "        in some cases where `step` is not an integer and floating point\n",
      "        round-off affects the length of `out`.\n",
      "    step : number, optional\n",
      "        Spacing between values.  For any output `out`, this is the distance\n",
      "        between two adjacent values, ``out[i+1] - out[i]``.  The default\n",
      "        step size is 1.  If `step` is specified as a position argument,\n",
      "        `start` must also be given.\n",
      "    dtype : dtype\n",
      "        The type of the output array.  If `dtype` is not given, infer the data\n",
      "        type from the other input arguments.\n",
      "    \n",
      "    Returns\n",
      "    -------\n",
      "    arange : ndarray\n",
      "        Array of evenly spaced values.\n",
      "    \n",
      "        For floating point arguments, the length of the result is\n",
      "        ``ceil((stop - start)/step)``.  Because of floating point overflow,\n",
      "        this rule may result in the last element of `out` being greater\n",
      "        than `stop`.\n",
      "    \n",
      "    See Also\n",
      "    --------\n",
      "    linspace : Evenly spaced numbers with careful handling of endpoints.\n",
      "    ogrid: Arrays of evenly spaced numbers in N-dimensions.\n",
      "    mgrid: Grid-shaped arrays of evenly spaced numbers in N-dimensions.\n",
      "    \n",
      "    Examples\n",
      "    --------\n",
      "    >>> np.arange(3)\n",
      "    array([0, 1, 2])\n",
      "    >>> np.arange(3.0)\n",
      "    array([ 0.,  1.,  2.])\n",
      "    >>> np.arange(3,7)\n",
      "    array([3, 4, 5, 6])\n",
      "    >>> np.arange(3,7,2)\n",
      "    array([3, 5])\n",
      "\n"
     ]
    }
   ],
   "source": [
    "help('numpy.arange')"
   ]
  },
  {
   "cell_type": "markdown",
   "metadata": {},
   "source": [
    "It creates an array of arrays with each array containing 3 elements and there is 6 of them. \n",
    "The created array is multiplied with an array of 3 integers 0,1,2"
   ]
  },
  {
   "cell_type": "code",
   "execution_count": 11,
   "metadata": {},
   "outputs": [],
   "source": [
    "class CartPoint:\n",
    "    def __init__(self, tup):\n",
    "        self.x, self.y, self.z = tup\n",
    "    \n",
    "    def magnitude(self):\n",
    "        return (self.x**2 + self.y**2 + self.z**2)**0.5\n",
    "\n",
    "class CartPointTime(CartPoint):\n",
    "    def __init__(self, tup):\n",
    "        self.x, self.y, self.z, self.t = tup\n",
    "        \n",
    "    def magnitude_and_time(self):\n",
    "        return (self.magnitude(), self.t)"
   ]
  },
  {
   "cell_type": "code",
   "execution_count": 12,
   "metadata": {},
   "outputs": [
    {
     "data": {
      "text/plain": [
       "(5.385164807134504, 6)"
      ]
     },
     "execution_count": 12,
     "metadata": {},
     "output_type": "execute_result"
    }
   ],
   "source": [
    "c = CartPointTime((2,3,4,6))\n",
    "c.magnitude_and_time()"
   ]
  },
  {
   "cell_type": "code",
   "execution_count": 25,
   "metadata": {},
   "outputs": [],
   "source": [
    "def word_count(filename):\n",
    "    # create a dictionary of word as key and count as value\n",
    "    word_dict = {}\n",
    "    f = open(filename, \"r\")\n",
    "    file_content = f.readlines()\n",
    "    for word in file_content:\n",
    "        if word in word_dict:\n",
    "            word_dict[word] += 1\n",
    "        else:\n",
    "            word_dict[word] = 1\n",
    "    \n",
    "    sorted_tups = sorted(word_dict.items(), key=lambda kv: kv[1])\n",
    "    return sorted_tups[len(sorted_tups)-1][0]    "
   ]
  },
  {
   "cell_type": "code",
   "execution_count": 26,
   "metadata": {},
   "outputs": [
    {
     "data": {
      "text/plain": [
       "'ab\\n'"
      ]
     },
     "execution_count": 26,
     "metadata": {},
     "output_type": "execute_result"
    }
   ],
   "source": [
    "word_count(\"test.txt\")"
   ]
  },
  {
   "cell_type": "code",
   "execution_count": 28,
   "metadata": {},
   "outputs": [
    {
     "data": {
      "text/plain": [
       "array([-9.28,  5.16,  0.76])"
      ]
     },
     "execution_count": 28,
     "metadata": {},
     "output_type": "execute_result"
    }
   ],
   "source": [
    "# x + 3y + 5z = 10\n",
    "# 2x + 3y + 8z = 3\n",
    "# 2x + 5y + z = 8\n",
    "\n",
    "# build matrices of the equations\n",
    "x = np.array([[1, 3, 5], [2,3,8], [2,5,1]])\n",
    "y = np.array([10, 3, 8])\n",
    "\n",
    "np.linalg.solve(x, y)"
   ]
  },
  {
   "cell_type": "markdown",
   "metadata": {},
   "source": [
    "# Question Two"
   ]
  },
  {
   "cell_type": "code",
   "execution_count": 35,
   "metadata": {},
   "outputs": [
    {
     "data": {
      "text/plain": [
       "array([-1.66235898+0.56227951j, -1.66235898-0.56227951j,\n",
       "        0.32471796+0.j        ])"
      ]
     },
     "execution_count": 35,
     "metadata": {},
     "output_type": "execute_result"
    }
   ],
   "source": [
    "# make an array using the coeffients\n",
    "eq = np.array([1, 3, 2, -1])\n",
    "np.roots(eq)"
   ]
  },
  {
   "cell_type": "code",
   "execution_count": 92,
   "metadata": {},
   "outputs": [
    {
     "ename": "TypeError",
     "evalue": "'Symbol' object is not callable",
     "output_type": "error",
     "traceback": [
      "\u001b[0;31m---------------------------------------------------------------------------\u001b[0m",
      "\u001b[0;31mTypeError\u001b[0m                                 Traceback (most recent call last)",
      "\u001b[0;32m<ipython-input-92-8e58778eeafc>\u001b[0m in \u001b[0;36m<module>\u001b[0;34m\u001b[0m\n\u001b[1;32m      6\u001b[0m \u001b[0;34m\u001b[0m\u001b[0m\n\u001b[1;32m      7\u001b[0m \u001b[0;34m\u001b[0m\u001b[0m\n\u001b[0;32m----> 8\u001b[0;31m \u001b[0meq1\u001b[0m \u001b[0;34m=\u001b[0m \u001b[0msy\u001b[0m\u001b[0;34m.\u001b[0m\u001b[0mEq\u001b[0m\u001b[0;34m(\u001b[0m\u001b[0mf\u001b[0m\u001b[0;34m(\u001b[0m\u001b[0mt\u001b[0m\u001b[0;34m)\u001b[0m\u001b[0;34m.\u001b[0m\u001b[0mdiff\u001b[0m\u001b[0;34m(\u001b[0m\u001b[0mt\u001b[0m\u001b[0;34m)\u001b[0m\u001b[0;34m,\u001b[0m \u001b[0mf\u001b[0m\u001b[0;34m(\u001b[0m\u001b[0mt\u001b[0m\u001b[0;34m)\u001b[0m\u001b[0;34m**\u001b[0m\u001b[0;36m4\u001b[0m\u001b[0;34m)\u001b[0m  \u001b[0;31m# the equation\u001b[0m\u001b[0;34m\u001b[0m\u001b[0;34m\u001b[0m\u001b[0m\n\u001b[0m\u001b[1;32m      9\u001b[0m \u001b[0msls\u001b[0m \u001b[0;34m=\u001b[0m \u001b[0mdsolve\u001b[0m\u001b[0;34m(\u001b[0m\u001b[0meq1\u001b[0m\u001b[0;34m)\u001b[0m  \u001b[0;31m# solvde ODE\u001b[0m\u001b[0;34m\u001b[0m\u001b[0;34m\u001b[0m\u001b[0m\n\u001b[1;32m     10\u001b[0m \u001b[0;34m\u001b[0m\u001b[0m\n",
      "\u001b[0;31mTypeError\u001b[0m: 'Symbol' object is not callable"
     ]
    }
   ],
   "source": [
    "import sympy as sy\n",
    "from sympy.solvers.ode import dsolve\n",
    "\n",
    "t = sy.symbols(\"t\", real=True)\n",
    "f = sy.symbols(\"f\", function=True)\n",
    "\n",
    "\n",
    "eq1 = sy.Eq(f(t).diff(t), f(t)**4)  # the equation \n",
    "sls = dsolve(eq1)  # solvde ODE\n",
    "\n",
    "# print solutions:\n",
    "print(\"For ode\")\n",
    "display(eq1)\n",
    "print(\"the solutions are:\")\n",
    "for s in sls:\n",
    "    display(s)\n",
    "\n",
    "# plot solutions:\n",
    "x = np.linspace(0, 2, 100)\n",
    "fg, axx = plt.subplots(2, 1)\n",
    "axx[0].set_title(\"Real part of solution of $\\\\frac{d}{dt}f(t)= (f(t))^4$\")\n",
    "axx[1].set_title(\"Imag. part of solution of $\\\\frac{d}{dt}f(t)= (f(t))^4$\")\n",
    "fg.suptitle(\"$C_1=0.1$\")\n",
    "for i, s in enumerate(sls, start=1):\n",
    "    fn1 = s.rhs.subs(\"C1\", .1)  # C_1 -> 1\n",
    "    fn2 = sy.lambdify(t, fn1, modules=\"numpy\")  # make numpy function\n",
    "    y = fn2(x+0j)  # needs to be called with complex number\n",
    "    axx[0].plot(x, np.real(y), label=\"Sol. %d\" % i)\n",
    "    axx[1].plot(x, np.imag(y), label=\"Sol. %d\" % i)\n",
    "for ax in axx:\n",
    "    ax.legend(loc=\"best\")\n",
    "    ax.grid(True)\n",
    "axx[0].set_ylabel(\"Re$\\\\{f(t)\\\\}$\")\n",
    "axx[1].set_ylabel(\"Im$\\\\{f(t)\\\\}$\")\n",
    "axx[-1].set_xlabel(\"$t$\")\n",
    "fg.canvas.draw()\n",
    "plt.show()"
   ]
  },
  {
   "cell_type": "code",
   "execution_count": 93,
   "metadata": {},
   "outputs": [
    {
     "data": {
      "image/png": "[encoded data removed]",
      "text/plain": [
       "<Figure size 432x288 with 1 Axes>"
      ]
     },
     "metadata": {
      "needs_background": "light"
     },
     "output_type": "display_data"
    }
   ],
   "source": [
    "from scipy.integrate import odeint\n",
    "\n",
    "def tank(h,t):\n",
    "   # constants\n",
    "   c1 = 0.13\n",
    "   c2 = 0.20\n",
    "   Ac = 2      # m^2\n",
    "   # inflow\n",
    "   qin = 0.5   # m^3/hr\n",
    "   # outflow\n",
    "   qout1 = c1 * h[0]**0.5\n",
    "   qout2 = c2 * h[1]**0.5\n",
    "   # differential equations\n",
    "   dhdt1 = (qin   - qout1) / Ac\n",
    "   dhdt2 = (qout1 - qout2) / Ac\n",
    "   # overflow conditions\n",
    "   if h[0]>=1 and dhdt1>=0:\n",
    "       dhdt1 = 0\n",
    "   if h[1]>=1 and dhdt2>=0:\n",
    "       dhdt2 = 0\n",
    "   dhdt = [dhdt1,dhdt2]\n",
    "   return dhdt\n",
    "\n",
    "# integrate the equations\n",
    "t = np.linspace(0,10) # times to report solution\n",
    "h0 = [0,0]            # initial conditions for height\n",
    "y = odeint(tank,h0,t) # integrate\n",
    "\n",
    "# plot results\n",
    "plt.figure(1)\n",
    "plt.plot(t,y[:,0],'b-')\n",
    "plt.plot(t,y[:,1],'r--')\n",
    "plt.xlabel('Time (hrs)')\n",
    "plt.ylabel('Height (m)')\n",
    "plt.legend(['h1','h2'])\n",
    "plt.show()"
   ]
  },
  {
   "cell_type": "markdown",
   "metadata": {},
   "source": [
    "# Question Three"
   ]
  },
  {
   "cell_type": "code",
   "execution_count": 36,
   "metadata": {},
   "outputs": [],
   "source": [
    "def fib(n):\n",
    "    if n == 0 or n==1:\n",
    "        return 1\n",
    "    return fib(n-1) + fib(n-2)"
   ]
  },
  {
   "cell_type": "code",
   "execution_count": 75,
   "metadata": {},
   "outputs": [
    {
     "data": {
      "text/plain": [
       "5"
      ]
     },
     "execution_count": 75,
     "metadata": {},
     "output_type": "execute_result"
    }
   ],
   "source": [
    "fib(4)"
   ]
  },
  {
   "cell_type": "code",
   "execution_count": 39,
   "metadata": {},
   "outputs": [],
   "source": [
    "class Rectangle:\n",
    "    def __init__(self, x, y, height, width):\n",
    "        self.x = x\n",
    "        self.y = y\n",
    "        self.height = height\n",
    "        self.width = width\n",
    "\n",
    "box = Rectangle(100, 100, 50, 30)"
   ]
  },
  {
   "cell_type": "code",
   "execution_count": 46,
   "metadata": {},
   "outputs": [
    {
     "data": {
      "text/plain": [
       "23"
      ]
     },
     "execution_count": 46,
     "metadata": {},
     "output_type": "execute_result"
    }
   ],
   "source": [
    "# suppose the values\n",
    "x, y, z = 5, 8, 15\n",
    "\n",
    "# 3x + y\n",
    "3*x + y"
   ]
  },
  {
   "cell_type": "code",
   "execution_count": 47,
   "metadata": {},
   "outputs": [
    {
     "data": {
      "text/plain": [
       "15"
      ]
     },
     "execution_count": 47,
     "metadata": {},
     "output_type": "execute_result"
    }
   ],
   "source": [
    "# 3x\n",
    "3*x"
   ]
  },
  {
   "cell_type": "code",
   "execution_count": 48,
   "metadata": {},
   "outputs": [
    {
     "data": {
      "text/plain": [
       "False"
      ]
     },
     "execution_count": 48,
     "metadata": {},
     "output_type": "execute_result"
    }
   ],
   "source": [
    "# x is evenly divisible by 12\n",
    "x % 12 == 0"
   ]
  },
  {
   "cell_type": "code",
   "execution_count": 49,
   "metadata": {},
   "outputs": [
    {
     "data": {
      "text/plain": [
       "True"
      ]
     },
     "execution_count": 49,
     "metadata": {},
     "output_type": "execute_result"
    }
   ],
   "source": [
    "# x plus 7 is more than 100 or less than 50\n",
    "x + 7 > 100 or x + 7 < 50"
   ]
  },
  {
   "cell_type": "code",
   "execution_count": 50,
   "metadata": {},
   "outputs": [
    {
     "data": {
      "text/plain": [
       "True"
      ]
     },
     "execution_count": 50,
     "metadata": {},
     "output_type": "execute_result"
    }
   ],
   "source": [
    "# x<=y and 2 <=z\n",
    "x <= y and 2 <= z"
   ]
  },
  {
   "cell_type": "code",
   "execution_count": 68,
   "metadata": {},
   "outputs": [
    {
     "data": {
      "text/plain": [
       "2.6666000000000003"
      ]
     },
     "execution_count": 68,
     "metadata": {},
     "output_type": "execute_result"
    }
   ],
   "source": [
    "# 1st way to integrate\n",
    "def custom_integrate(f, a, b, N):\n",
    "    x = np.linspace(a+(b-a)/(2*N), b-(b-a)/(2*N), N)\n",
    "    fx = f(x)\n",
    "    area = np.sum(fx)*(b-a)/N\n",
    "    return area\n",
    "\n",
    "def square(x):\n",
    "    return x**2\n",
    "\n",
    "custom_integrate(square, 0, 2, 100)"
   ]
  },
  {
   "cell_type": "code",
   "execution_count": 70,
   "metadata": {},
   "outputs": [
    {
     "data": {
      "text/plain": [
       "(2.666666666666667, 2.960594732333751e-14)"
      ]
     },
     "execution_count": 70,
     "metadata": {},
     "output_type": "execute_result"
    }
   ],
   "source": [
    "# using scipy\n",
    "import scipy.integrate as integrate\n",
    "# using a lambda function to pass in the required expression\n",
    "integrate.quad(lambda x: x**2, 0, 2)"
   ]
  },
  {
   "cell_type": "markdown",
   "metadata": {},
   "source": [
    "# Question Four"
   ]
  },
  {
   "cell_type": "code",
   "execution_count": 84,
   "metadata": {},
   "outputs": [
    {
     "data": {
      "image/png": "[encoded data removed]",
      "text/plain": [
       "<Figure size 432x288 with 1 Axes>"
      ]
     },
     "metadata": {
      "needs_background": "light"
     },
     "output_type": "display_data"
    }
   ],
   "source": [
    "import numpy as np \n",
    "from matplotlib import pyplot as plt\n",
    "\n",
    "x0 = 0\n",
    "y0 = 1\n",
    "xf = 10\n",
    "n = 101\n",
    "deltax = (xf - x0)/(n-1)\n",
    "x = np.linspace(x0, xf, n)\n",
    "y = np.zeros([n])\n",
    "y[0] = y0\n",
    "for i in range(1, n):\n",
    "    y[i] = deltax*(-y[i-1] + np.sin(x[i-1])) + y[i-1]\n",
    "\n",
    "plt.plot(x, y, 'o')\n",
    "plt.xlabel(\"Value of x\")\n",
    "plt.ylabel(\"Value of y\")\n",
    "plt.title(\"Approximate Solution with Forward Euler’s Method\")\n",
    "plt.show()\n"
   ]
  },
  {
   "cell_type": "code",
   "execution_count": 87,
   "metadata": {},
   "outputs": [
    {
     "name": "stdout",
     "output_type": "stream",
     "text": [
      "Max difference between the exact solution and Euler's approximation with step size h=0.001:\n",
      "0.00919890254720457\n"
     ]
    }
   ],
   "source": [
    "from __future__ import division\n",
    "import numpy as np\n",
    "import matplotlib.pyplot as plt\n",
    "\n",
    "\n",
    "# Concentration over time\n",
    "N = lambda t: N0 * np.exp(-k * t)\n",
    "# dN/dt\n",
    "def dx_dt(x):\n",
    "    return -k * x\n",
    "\n",
    "k = .5\n",
    "h = 0.001\n",
    "N0 = 100.\n",
    "\n",
    "t = np.arange(0, 10, h)\n",
    "y = np.zeros(len(t))\n",
    "\n",
    "y[0] = N0\n",
    "for i in range(1, len(t)):\n",
    "    # Euler's method\n",
    "    y[i] = y[i-1] + dx_dt(y[i-1]) * h\n",
    "\n",
    "max_error = abs(y-N(t)).max()\n",
    "print(\"Max difference between the exact solution and Euler's approximation with step size h=0.001:\")\n",
    "\n",
    "print('{0:.15}'.format(max_error))"
   ]
  },
  {
   "cell_type": "code",
   "execution_count": 88,
   "metadata": {},
   "outputs": [],
   "source": [
    "def Euler(f, t0, tf, y0, n):\n",
    "    h = (tf -t0)/n\n",
    "\n",
    "    t = []\n",
    "    y = []\n",
    "\n",
    "    t.append(t0)\n",
    "    y.append(y0)\n",
    "\n",
    "    for i in range(n+1):\n",
    "        tx = t[i]+h\n",
    "        t.append(tx)\n",
    "\n",
    "        y1 = y[i]+(h*(f(t[i], y[i])))\n",
    "        y.append(y1)\n",
    "\n",
    "    for j in range(n+1):\n",
    "        print(\"%0.1f %f\"%(t[j], y[j]))\n",
    "\n",
    "    pyplot.plot(t, y, 0)\n",
    "    pyplot.xlabel(\"Value of t\")\n",
    "    pyplot.ylabel(\"Value of y\")\n",
    "    pyplot.title(\"Approximate Solutions of IVPs using Euler's Method\")\n",
    "    pyplot.show()\n",
    "\n",
    "    return"
   ]
  },
  {
   "cell_type": "code",
   "execution_count": 89,
   "metadata": {},
   "outputs": [],
   "source": [
    "def gauss(A):\n",
    "    m = len(A)\n",
    "    assert all([len(row) == m + 1 for row in A[1:]]), \"Matrix rows have non-uniform length\"\n",
    "    n = m + 1\n",
    "    \n",
    "    for k in range(m):\n",
    "        pivots = [abs(A[i][k]) for i in range(k, m)]\n",
    "        i_max = pivots.index(max(pivots)) + k\n",
    "        \n",
    "        # Check for singular matrix\n",
    "        assert A[i_max][k] != 0, \"Matrix is singular!\"\n",
    "        \n",
    "        # Swap rows\n",
    "        A[k], A[i_max] = A[i_max], A[k]\n",
    "\n",
    "        \n",
    "        for i in range(k + 1, m):\n",
    "            f = A[i][k] / A[k][k]\n",
    "            for j in range(k + 1, n):\n",
    "                A[i][j] -= A[k][j] * f\n",
    "\n",
    "            # Fill lower triangular matrix with zeros:\n",
    "            A[i][k] = 0\n",
    "    \n",
    "    # Solve equation Ax=b for an upper triangular matrix A         \n",
    "    x = []\n",
    "    for i in range(m - 1, -1, -1):\n",
    "        x.insert(0, A[i][m] / A[i][i])\n",
    "        for k in range(i - 1, -1, -1):\n",
    "            A[k][m] -= A[k][i] * x[0]\n",
    "    return x"
   ]
  },
  {
   "cell_type": "code",
   "execution_count": null,
   "metadata": {},
   "outputs": [],
   "source": []
  }
 ],
 "metadata": {
  "kernelspec": {
   "display_name": "Python 3",
   "language": "python",
   "name": "python3"
  },
  "language_info": {
   "codemirror_mode": {
    "name": "ipython",
    "version": 3
   },
   "file_extension": ".py",
   "mimetype": "text/x-python",
   "name": "python",
   "nbconvert_exporter": "python",
   "pygments_lexer": "ipython3",
   "version": "3.7.3"
  }
 },
 "nbformat": 4,
 "nbformat_minor": 2
}
